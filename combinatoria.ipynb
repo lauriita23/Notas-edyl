{
  "cells": [
    {
      "cell_type": "markdown",
      "metadata": {
        "id": "nMeY0OoVcXvA"
      },
      "source": [
        "###Hoja de ejercicios de combinatoria, 2015/2016\n",
        "**Solución a algunos ejercicios usando programación**"
      ]
    },
    {
      "cell_type": "code",
      "execution_count": 1,
      "metadata": {
        "collapsed": true,
        "id": "MN_d7miIcXvE"
      },
      "outputs": [],
      "source": [
        "import itertools"
      ]
    },
    {
      "cell_type": "markdown",
      "metadata": {
        "id": "BTBTfliccXvF"
      },
      "source": [
        "**Ejercicio 1a.** ¿Cuántas palabras diferentes se pueden formar con (todas) las letras de la palabra RECONOCER?"
      ]
    },
    {
      "cell_type": "code",
      "execution_count": 6,
      "metadata": {
        "colab": {
          "base_uri": "https://localhost:8080/"
        },
        "id": "r1P8wDD0cXvG",
        "outputId": "7f57632f-3274-48dc-fe70-b1bf7cdc4f9f"
      },
      "outputs": [
        {
          "output_type": "stream",
          "name": "stdout",
          "text": [
            "Numero de elementos = 362880\n",
            "['RECONOCER', 'RECONOCRE', 'RECONOECR', 'RECONOERC', 'RECONORCE', 'RECONOREC', 'RECONCOER', 'RECONCORE', 'RECONCEOR', 'RECONCERO']\n",
            "['RECONCERO', 'RECONCEOR', 'RECONCORE', 'RECONCOER', 'RECONOREC', 'RECONORCE', 'RECONOERC', 'RECONOECR', 'RECONOCRE', 'RECONOCER']\n"
          ]
        }
      ],
      "source": [
        "palabra = \"RECONOCER\"\n",
        "\n",
        "# Calculamos todas las permutaciones, habrá palabras repetidas:\n",
        "perms = [''.join(item) for item in itertools.permutations(palabra, 9)]\n",
        "\n",
        "# Imprimimos resultados, número total de palabras y 10 primeras y 10 últimas palabras:\n",
        "print(\"Numero de elementos = %d\" % (len(perms)))\n",
        "print(perms[:10])\n",
        "print(perms[-10:])"
      ]
    },
    {
      "cell_type": "code",
      "execution_count": 7,
      "metadata": {
        "colab": {
          "base_uri": "https://localhost:8080/"
        },
        "id": "kCpp8a1VcXvH",
        "outputId": "bc5be6bf-b1a1-4dc2-eef3-53075b1476ee"
      },
      "outputs": [
        {
          "output_type": "stream",
          "name": "stdout",
          "text": [
            "Numero de elementos = 22680\n"
          ]
        }
      ],
      "source": [
        "# Transformamos la lista a un conjunto (un conjunto no tiene elementos repetidos):\n",
        "conjunto = set(perms)\n",
        "print(\"Numero de elementos = %d\" % (len(conjunto)))"
      ]
    },
    {
      "cell_type": "code",
      "execution_count": 8,
      "metadata": {
        "colab": {
          "base_uri": "https://localhost:8080/"
        },
        "id": "9zN1f5IucXvI",
        "outputId": "626b2b6a-f752-4a65-a682-ca0b5110d4e7"
      },
      "outputs": [
        {
          "output_type": "execute_result",
          "data": {
            "text/plain": [
              "22680.0"
            ]
          },
          "metadata": {},
          "execution_count": 8
        }
      ],
      "source": [
        "# Valor teórico:\n",
        "(9*8*7*6*5*4*3*2)/(2*2*2*2)"
      ]
    },
    {
      "cell_type": "markdown",
      "metadata": {
        "id": "e8eJ8AYecXvI"
      },
      "source": [
        "**Ejercicio 1b.** ¿Cuántas empiezan o acaban por la letra R? "
      ]
    },
    {
      "cell_type": "code",
      "source": [
        "# Fuerza bruta, recorro todos los casos comprobando las letras primera y última:\n",
        "valid = [x for x in conjunto if x[0] == 'R' or x[8] == 'R']\n",
        "print(\"Numero de elementos = %d\" % len(valid))"
      ],
      "metadata": {
        "colab": {
          "base_uri": "https://localhost:8080/"
        },
        "id": "Pmci7xE-d18k",
        "outputId": "e639397e-cec9-4ea2-d206-a9150dcc56dc"
      },
      "execution_count": 12,
      "outputs": [
        {
          "output_type": "stream",
          "name": "stdout",
          "text": [
            "Numero de elementos = 9450\n"
          ]
        }
      ]
    },
    {
      "cell_type": "code",
      "execution_count": 10,
      "metadata": {
        "colab": {
          "base_uri": "https://localhost:8080/"
        },
        "id": "knu80IPMcXvK",
        "outputId": "7c7ad76c-5e81-488b-ed03-61a06131476c"
      },
      "outputs": [
        {
          "output_type": "stream",
          "name": "stdout",
          "text": [
            "9450.0\n"
          ]
        }
      ],
      "source": [
        "# Valor teórico:\n",
        "empiezan = (8*7*6*5*4*3*2)/(2*2*2)\n",
        "acaban = (8*7*6*5*4*3*2)/(2*2*2)\n",
        "empiezan_y_acaban = (7*6*5*4*3*2)/(2*2*2)\n",
        "print(empiezan + acaban - empiezan_y_acaban)"
      ]
    },
    {
      "cell_type": "markdown",
      "metadata": {
        "id": "lRkqRoWJcXvK"
      },
      "source": [
        "**Ejercicio 1c.** ¿Cuántas son palíndromos (palabras “capicúa”)?"
      ]
    },
    {
      "cell_type": "code",
      "source": [
        "# Fuerza bruta, recorro todos los casos comprobando si son capicúa:\n",
        "valid = [x for x in conjunto if x == x[::-1]]\n",
        "print(\"Numero de elementos = %d\" % len(valid))"
      ],
      "metadata": {
        "colab": {
          "base_uri": "https://localhost:8080/"
        },
        "id": "eLboGVp6eR7V",
        "outputId": "348919df-72ac-406e-dcb2-3118bfb48717"
      },
      "execution_count": 18,
      "outputs": [
        {
          "output_type": "stream",
          "name": "stdout",
          "text": [
            "Numero de elementos = 24\n"
          ]
        }
      ]
    },
    {
      "cell_type": "code",
      "execution_count": 15,
      "metadata": {
        "colab": {
          "base_uri": "https://localhost:8080/"
        },
        "id": "wqXMqKEIcXvL",
        "outputId": "cf6be1b9-4db0-4f0b-825d-2401f1f46cff"
      },
      "outputs": [
        {
          "output_type": "execute_result",
          "data": {
            "text/plain": [
              "24"
            ]
          },
          "metadata": {},
          "execution_count": 15
        }
      ],
      "source": [
        "# Valor teórico:\n",
        "4*3*2"
      ]
    },
    {
      "cell_type": "markdown",
      "metadata": {
        "id": "kTWzlz-ecXvM"
      },
      "source": [
        "**Ejercicio 1d.** ¿Cuántas contienen 2 Es seguidas y no contienen 2 Rs seguidas?"
      ]
    },
    {
      "cell_type": "code",
      "source": [
        "# Fuerza bruta, recorro todos los casos haciendo la comprobación:\n",
        "valid = [x for x in conjunto if 'EE' in x and 'RR' not in x]\n",
        "print(\"Numero de elementos = %d\" % len(valid))"
      ],
      "metadata": {
        "colab": {
          "base_uri": "https://localhost:8080/"
        },
        "id": "ixtJ_Etoe9hZ",
        "outputId": "d81a6392-3cb1-4f41-9a01-53fa8a7016bb"
      },
      "execution_count": 17,
      "outputs": [
        {
          "output_type": "stream",
          "name": "stdout",
          "text": [
            "Numero de elementos = 3780\n"
          ]
        }
      ]
    },
    {
      "cell_type": "code",
      "execution_count": 19,
      "metadata": {
        "colab": {
          "base_uri": "https://localhost:8080/"
        },
        "id": "dTBkz-gAcXvN",
        "outputId": "eb88d524-79f1-4119-d314-b325a74fea4a"
      },
      "outputs": [
        {
          "output_type": "execute_result",
          "data": {
            "text/plain": [
              "3780.0"
            ]
          },
          "metadata": {},
          "execution_count": 19
        }
      ],
      "source": [
        "# Valor teórico:\n",
        "(8*7*6*5*4*3*2)/(2*2*2) - (7*6*5*4*3*2)/(2*2)"
      ]
    },
    {
      "cell_type": "markdown",
      "metadata": {
        "id": "23x_oYsJcXvN"
      },
      "source": [
        "**Ejercicio 2a.** Tengo 12 peras, 5 manzanas y 7 mandarinas, y dos fruteros distintos (verde y azul). ¿De cuántas maneras puedo colocar las frutas en los fruteros?"
      ]
    },
    {
      "cell_type": "code",
      "execution_count": 20,
      "metadata": {
        "colab": {
          "base_uri": "https://localhost:8080/"
        },
        "id": "9_D_hIxTcXvN",
        "outputId": "388b1f2d-ecbc-4658-981d-485763eacb92"
      },
      "outputs": [
        {
          "output_type": "stream",
          "name": "stdout",
          "text": [
            "     P-P-P-P-P-P-P-P-P-P-P-P-M-M-M-M-M-X-X-X-X-X-X-X\n",
            "-----------------------------------------------------\n",
            "  1: V-V-V-V-V-V-V-V-V-V-V-V-V-V-V-V-V-V-V-V-V-V-V-V\n",
            "  2: V-V-V-V-V-V-V-V-V-V-V-V-V-V-V-V-V-V-V-V-V-V-V-A\n",
            "  3: V-V-V-V-V-V-V-V-V-V-V-V-V-V-V-V-V-V-V-V-V-V-A-A\n",
            "  4: V-V-V-V-V-V-V-V-V-V-V-V-V-V-V-V-V-V-V-V-V-A-A-A\n",
            "  5: V-V-V-V-V-V-V-V-V-V-V-V-V-V-V-V-V-V-V-V-A-A-A-A\n",
            "  6: V-V-V-V-V-V-V-V-V-V-V-V-V-V-V-V-V-V-V-A-A-A-A-A\n",
            "  7: V-V-V-V-V-V-V-V-V-V-V-V-V-V-V-V-V-V-A-A-A-A-A-A\n",
            "  8: V-V-V-V-V-V-V-V-V-V-V-V-V-V-V-V-V-A-A-A-A-A-A-A\n",
            "  9: V-V-V-V-V-V-V-V-V-V-V-V-V-V-V-V-A-V-V-V-V-V-V-V\n",
            " 10: V-V-V-V-V-V-V-V-V-V-V-V-V-V-V-V-A-V-V-V-V-V-V-A\n",
            "Numero de elementos = 624\n"
          ]
        }
      ],
      "source": [
        "fruteros = ['V', 'A']\n",
        "# Formas de colocar las peras:\n",
        "combs_peras = [item for item in itertools.combinations_with_replacement(fruteros, 12)]\n",
        "# Formas de colocar las manzanas:\n",
        "combs_manzanas = [item for item in itertools.combinations_with_replacement(fruteros, 5)]\n",
        "# Formas de colocar las mandarinas:\n",
        "combs_mandarinas = [item for item in itertools.combinations_with_replacement(fruteros, 7)]\n",
        "# Producto cartesiano de las tres listas (peras, manzanas y mandarinas):\n",
        "listas = [combs_peras, combs_manzanas, combs_mandarinas]\n",
        "combs_all = [item for item in itertools.product(*listas)]\n",
        "# Imprimo las 10 primeras combinaciones (P = pera, M = manzana, X = mandarina):\n",
        "print(\"     P-P-P-P-P-P-P-P-P-P-P-P-M-M-M-M-M-X-X-X-X-X-X-X\")\n",
        "print(\"-----------------------------------------------------\")\n",
        "for i,c in enumerate(combs_all[:10]):\n",
        "    aux = \"-\".join(c[0] + c[1] + c[2])\n",
        "    m = \"%3d: \" % (i+1)\n",
        "    print(m + aux)\n",
        "# Imprimo el número de elementos:\n",
        "print(\"Numero de elementos = %d\" % (len(combs_all)))"
      ]
    },
    {
      "cell_type": "code",
      "execution_count": 21,
      "metadata": {
        "colab": {
          "base_uri": "https://localhost:8080/"
        },
        "id": "PP6lU1tycXvO",
        "outputId": "3a5a920c-48f3-49b4-8f2f-02d21ef9c1d2"
      },
      "outputs": [
        {
          "output_type": "execute_result",
          "data": {
            "text/plain": [
              "624"
            ]
          },
          "metadata": {},
          "execution_count": 21
        }
      ],
      "source": [
        "# Valor teórico:\n",
        "13*6*8"
      ]
    },
    {
      "cell_type": "markdown",
      "metadata": {
        "id": "2H_xQmTjcXvO"
      },
      "source": [
        "**Ejercicio 2b.** ¿De cuántas maneras puedo colocar las frutas en los fruteros si en cada frutero debe haber un mínimo de 5 frutas?"
      ]
    },
    {
      "cell_type": "code",
      "execution_count": 24,
      "metadata": {
        "colab": {
          "base_uri": "https://localhost:8080/"
        },
        "id": "TQXQs-XMcXvO",
        "outputId": "5efa871f-48e3-4244-ff86-e11b3aaeced9"
      },
      "outputs": [
        {
          "output_type": "stream",
          "name": "stdout",
          "text": [
            "Numero de elementos = 554\n"
          ]
        }
      ],
      "source": [
        "# Por fuerza bruta, cuento los casos en los que hay al menos 5 Vs y 5As:\n",
        "count = 0\n",
        "for i,c in enumerate(combs_all):\n",
        "    aux = \"\".join(c[0] + c[1] + c[2])\n",
        "    if aux.count('V') >= 5 and aux.count('A') >= 5:\n",
        "        count = count + 1\n",
        "print(\"Numero de elementos = %d\" % (count))"
      ]
    },
    {
      "cell_type": "code",
      "execution_count": 25,
      "metadata": {
        "colab": {
          "base_uri": "https://localhost:8080/"
        },
        "id": "ODjmQPzNcXvP",
        "outputId": "d805db68-2ea1-42b0-e641-3242ff057d1a"
      },
      "outputs": [
        {
          "output_type": "execute_result",
          "data": {
            "text/plain": [
              "554"
            ]
          },
          "metadata": {},
          "execution_count": 25
        }
      ],
      "source": [
        "# Valor teórico:\n",
        "# Descontamos los casos en los que en un frutero hay 4, 3, 2, 1 o 0 frutas:\n",
        "624 - 2*(15 + 10 + 6 + 3 + 1)"
      ]
    },
    {
      "cell_type": "markdown",
      "metadata": {
        "id": "8FfwoBJ6cXvP"
      },
      "source": [
        "**Ejercicio 3a.** En una tienda de todo a 1 euro venden 7 tipos de productos. ¿De cuántas formas distintas me puedo gastar 20 euros en la tienda?\n"
      ]
    },
    {
      "cell_type": "code",
      "execution_count": 26,
      "metadata": {
        "colab": {
          "base_uri": "https://localhost:8080/"
        },
        "id": "RVmGQSKccXvP",
        "outputId": "9f79da1f-1706-447c-e58c-31a64858264e"
      },
      "outputs": [
        {
          "output_type": "stream",
          "name": "stdout",
          "text": [
            "  1: ('A', 'A', 'A', 'A', 'A', 'A', 'A', 'A', 'A', 'A', 'A', 'A', 'A', 'A', 'A', 'A', 'A', 'A', 'A', 'A')\n",
            "  2: ('A', 'A', 'A', 'A', 'A', 'A', 'A', 'A', 'A', 'A', 'A', 'A', 'A', 'A', 'A', 'A', 'A', 'A', 'A', 'B')\n",
            "  3: ('A', 'A', 'A', 'A', 'A', 'A', 'A', 'A', 'A', 'A', 'A', 'A', 'A', 'A', 'A', 'A', 'A', 'A', 'A', 'C')\n",
            "  4: ('A', 'A', 'A', 'A', 'A', 'A', 'A', 'A', 'A', 'A', 'A', 'A', 'A', 'A', 'A', 'A', 'A', 'A', 'A', 'D')\n",
            "  5: ('A', 'A', 'A', 'A', 'A', 'A', 'A', 'A', 'A', 'A', 'A', 'A', 'A', 'A', 'A', 'A', 'A', 'A', 'A', 'E')\n",
            "  6: ('A', 'A', 'A', 'A', 'A', 'A', 'A', 'A', 'A', 'A', 'A', 'A', 'A', 'A', 'A', 'A', 'A', 'A', 'A', 'F')\n",
            "  7: ('A', 'A', 'A', 'A', 'A', 'A', 'A', 'A', 'A', 'A', 'A', 'A', 'A', 'A', 'A', 'A', 'A', 'A', 'A', 'G')\n",
            "  8: ('A', 'A', 'A', 'A', 'A', 'A', 'A', 'A', 'A', 'A', 'A', 'A', 'A', 'A', 'A', 'A', 'A', 'A', 'B', 'B')\n",
            "  9: ('A', 'A', 'A', 'A', 'A', 'A', 'A', 'A', 'A', 'A', 'A', 'A', 'A', 'A', 'A', 'A', 'A', 'A', 'B', 'C')\n",
            " 10: ('A', 'A', 'A', 'A', 'A', 'A', 'A', 'A', 'A', 'A', 'A', 'A', 'A', 'A', 'A', 'A', 'A', 'A', 'B', 'D')\n",
            "Numero de elementos = 230230\n"
          ]
        }
      ],
      "source": [
        "productos = ['A', 'B', 'C', 'D', 'E', 'F', 'G']\n",
        "# Formas de gastarme 20 euros en productos de la tienda:\n",
        "combs_productos = [item for item in itertools.combinations_with_replacement(productos, 20)]\n",
        "# Imprimo las 10 primeras combinaciones:\n",
        "for i,c in enumerate(combs_productos[:10]):\n",
        "    aux = str(c)\n",
        "    m = \"%3d: \" % (i+1)\n",
        "    print(m + aux)\n",
        "# Imprimo el número de elementos:\n",
        "print(\"Numero de elementos = %d\" % (len(combs_productos)))"
      ]
    },
    {
      "cell_type": "code",
      "execution_count": 27,
      "metadata": {
        "colab": {
          "base_uri": "https://localhost:8080/"
        },
        "id": "BezfyAnzcXvQ",
        "outputId": "5e0d2f50-eeb1-4235-e44a-91dcd0d816d9"
      },
      "outputs": [
        {
          "output_type": "execute_result",
          "data": {
            "text/plain": [
              "230230.0"
            ]
          },
          "metadata": {},
          "execution_count": 27
        }
      ],
      "source": [
        "# Valor teórico:\n",
        "(26*25*24*23*22*21)/(6*5*4*3*2)"
      ]
    },
    {
      "cell_type": "markdown",
      "metadata": {
        "id": "Sn5yjU08cXvQ"
      },
      "source": [
        "**Ejercicio 3b.** ¿De cuántas formas distintas me puedo gastar 20 euros en la tienda si quiero comprar al menos 3 productos distintos?"
      ]
    },
    {
      "cell_type": "code",
      "execution_count": 28,
      "metadata": {
        "colab": {
          "base_uri": "https://localhost:8080/"
        },
        "id": "HPMaQAOpcXvQ",
        "outputId": "4d95db86-90c5-45b5-a19f-ab1a134b7e85"
      },
      "outputs": [
        {
          "output_type": "stream",
          "name": "stdout",
          "text": [
            "Numero de elementos = 229824\n"
          ]
        }
      ],
      "source": [
        "# Fuerza bruta, transformo cada combinación a un conjunto y cuento número de elementos:\n",
        "count = 0\n",
        "for c in combs_productos:\n",
        "    conjunto = set(c)\n",
        "    if len(conjunto) >= 3:\n",
        "        count = count + 1\n",
        "print(\"Numero de elementos = %d\" % (count))"
      ]
    },
    {
      "cell_type": "code",
      "execution_count": 29,
      "metadata": {
        "colab": {
          "base_uri": "https://localhost:8080/"
        },
        "id": "wODw1KQUcXvQ",
        "outputId": "0d4e5067-b0ee-41f3-fe1b-8edff02de74e"
      },
      "outputs": [
        {
          "output_type": "execute_result",
          "data": {
            "text/plain": [
              "229824.0"
            ]
          },
          "metadata": {},
          "execution_count": 29
        }
      ],
      "source": [
        "# Valor teórico:\n",
        "(26*25*24*23*22*21)/(6*5*4*3*2) - 7 - 399"
      ]
    },
    {
      "cell_type": "markdown",
      "metadata": {
        "id": "aBe7EJJMcXvS"
      },
      "source": [
        "**Ejercicio 4a.** Siete amigos van de viaje en dos coches distintos. En cada coche pueden viajar un máximo de 5 personas. ¿De cuántas maneras distintas se pueden repartir en los coches? No importa en qué orden se sientan, sólo quiénes van en cada coche.\n"
      ]
    },
    {
      "cell_type": "code",
      "execution_count": 30,
      "metadata": {
        "colab": {
          "base_uri": "https://localhost:8080/"
        },
        "id": "gyQtsTh2cXvS",
        "outputId": "ea2cceb9-ab67-427b-c303-7b113dc21e45"
      },
      "outputs": [
        {
          "output_type": "stream",
          "name": "stdout",
          "text": [
            "Numero de elementos = 112\n",
            "  1: Coche 1: {'B', 'A'} Coche 2: {'C', 'G', 'F', 'E', 'D'}\n",
            "  2: Coche 1: {'C', 'A'} Coche 2: {'B', 'G', 'F', 'E', 'D'}\n",
            "  3: Coche 1: {'D', 'A'} Coche 2: {'C', 'B', 'F', 'E', 'G'}\n",
            "  4: Coche 1: {'E', 'A'} Coche 2: {'C', 'B', 'F', 'G', 'D'}\n",
            "  5: Coche 1: {'F', 'A'} Coche 2: {'C', 'B', 'G', 'E', 'D'}\n",
            "  6: Coche 1: {'G', 'A'} Coche 2: {'C', 'B', 'F', 'E', 'D'}\n",
            "  7: Coche 1: {'C', 'B'} Coche 2: {'A', 'G', 'F', 'E', 'D'}\n",
            "  8: Coche 1: {'B', 'D'} Coche 2: {'A', 'C', 'G', 'F', 'E'}\n",
            "  9: Coche 1: {'B', 'E'} Coche 2: {'A', 'C', 'F', 'G', 'D'}\n",
            " 10: Coche 1: {'B', 'F'} Coche 2: {'A', 'C', 'G', 'E', 'D'}\n",
            " 11: Coche 1: {'B', 'G'} Coche 2: {'A', 'C', 'F', 'E', 'D'}\n",
            " 12: Coche 1: {'C', 'D'} Coche 2: {'A', 'B', 'G', 'F', 'E'}\n",
            " 13: Coche 1: {'C', 'E'} Coche 2: {'A', 'B', 'G', 'F', 'D'}\n",
            " 14: Coche 1: {'C', 'F'} Coche 2: {'A', 'B', 'G', 'E', 'D'}\n",
            " 15: Coche 1: {'C', 'G'} Coche 2: {'A', 'B', 'F', 'E', 'D'}\n",
            " 16: Coche 1: {'D', 'E'} Coche 2: {'A', 'C', 'B', 'F', 'G'}\n",
            " 17: Coche 1: {'F', 'D'} Coche 2: {'A', 'C', 'B', 'G', 'E'}\n",
            " 18: Coche 1: {'G', 'D'} Coche 2: {'A', 'C', 'B', 'F', 'E'}\n",
            " 19: Coche 1: {'F', 'E'} Coche 2: {'A', 'C', 'B', 'G', 'D'}\n",
            " 20: Coche 1: {'G', 'E'} Coche 2: {'A', 'C', 'B', 'F', 'D'}\n",
            " 21: Coche 1: {'G', 'F'} Coche 2: {'A', 'C', 'B', 'E', 'D'}\n",
            " 22: Coche 1: {'C', 'B', 'A'} Coche 2: {'G', 'F', 'E', 'D'}\n",
            " 23: Coche 1: {'B', 'D', 'A'} Coche 2: {'C', 'G', 'F', 'E'}\n",
            " 24: Coche 1: {'B', 'E', 'A'} Coche 2: {'C', 'F', 'G', 'D'}\n",
            " 25: Coche 1: {'B', 'F', 'A'} Coche 2: {'C', 'G', 'E', 'D'}\n",
            " 26: Coche 1: {'B', 'G', 'A'} Coche 2: {'C', 'F', 'E', 'D'}\n",
            " 27: Coche 1: {'C', 'D', 'A'} Coche 2: {'G', 'B', 'F', 'E'}\n",
            " 28: Coche 1: {'C', 'E', 'A'} Coche 2: {'G', 'B', 'F', 'D'}\n",
            " 29: Coche 1: {'C', 'F', 'A'} Coche 2: {'B', 'G', 'E', 'D'}\n",
            " 30: Coche 1: {'C', 'G', 'A'} Coche 2: {'B', 'F', 'E', 'D'}\n",
            " 31: Coche 1: {'D', 'A', 'E'} Coche 2: {'C', 'B', 'F', 'G'}\n",
            " 32: Coche 1: {'F', 'D', 'A'} Coche 2: {'C', 'B', 'G', 'E'}\n",
            " 33: Coche 1: {'G', 'D', 'A'} Coche 2: {'C', 'B', 'F', 'E'}\n",
            " 34: Coche 1: {'F', 'E', 'A'} Coche 2: {'C', 'B', 'G', 'D'}\n",
            " 35: Coche 1: {'G', 'E', 'A'} Coche 2: {'C', 'B', 'F', 'D'}\n",
            " 36: Coche 1: {'G', 'F', 'A'} Coche 2: {'C', 'B', 'E', 'D'}\n",
            " 37: Coche 1: {'C', 'B', 'D'} Coche 2: {'G', 'F', 'E', 'A'}\n",
            " 38: Coche 1: {'C', 'B', 'E'} Coche 2: {'G', 'F', 'D', 'A'}\n",
            " 39: Coche 1: {'C', 'B', 'F'} Coche 2: {'G', 'E', 'A', 'D'}\n",
            " 40: Coche 1: {'C', 'B', 'G'} Coche 2: {'F', 'E', 'A', 'D'}\n",
            " 41: Coche 1: {'B', 'D', 'E'} Coche 2: {'C', 'F', 'G', 'A'}\n",
            " 42: Coche 1: {'B', 'F', 'D'} Coche 2: {'C', 'G', 'E', 'A'}\n",
            " 43: Coche 1: {'B', 'G', 'D'} Coche 2: {'C', 'F', 'E', 'A'}\n",
            " 44: Coche 1: {'B', 'F', 'E'} Coche 2: {'C', 'G', 'D', 'A'}\n",
            " 45: Coche 1: {'B', 'G', 'E'} Coche 2: {'C', 'F', 'D', 'A'}\n",
            " 46: Coche 1: {'G', 'B', 'F'} Coche 2: {'C', 'E', 'A', 'D'}\n",
            " 47: Coche 1: {'C', 'D', 'E'} Coche 2: {'G', 'B', 'F', 'A'}\n",
            " 48: Coche 1: {'C', 'F', 'D'} Coche 2: {'B', 'G', 'E', 'A'}\n",
            " 49: Coche 1: {'C', 'G', 'D'} Coche 2: {'B', 'F', 'E', 'A'}\n",
            " 50: Coche 1: {'C', 'F', 'E'} Coche 2: {'B', 'G', 'D', 'A'}\n",
            " 51: Coche 1: {'C', 'G', 'E'} Coche 2: {'B', 'F', 'D', 'A'}\n",
            " 52: Coche 1: {'C', 'F', 'G'} Coche 2: {'B', 'E', 'A', 'D'}\n",
            " 53: Coche 1: {'F', 'D', 'E'} Coche 2: {'C', 'B', 'G', 'A'}\n",
            " 54: Coche 1: {'G', 'D', 'E'} Coche 2: {'C', 'B', 'F', 'A'}\n",
            " 55: Coche 1: {'G', 'F', 'D'} Coche 2: {'C', 'B', 'E', 'A'}\n",
            " 56: Coche 1: {'G', 'F', 'E'} Coche 2: {'C', 'B', 'D', 'A'}\n",
            " 57: Coche 1: {'C', 'B', 'D', 'A'} Coche 2: {'G', 'F', 'E'}\n",
            " 58: Coche 1: {'C', 'B', 'E', 'A'} Coche 2: {'G', 'F', 'D'}\n",
            " 59: Coche 1: {'C', 'B', 'F', 'A'} Coche 2: {'G', 'E', 'D'}\n",
            " 60: Coche 1: {'C', 'B', 'G', 'A'} Coche 2: {'F', 'E', 'D'}\n",
            " 61: Coche 1: {'B', 'D', 'A', 'E'} Coche 2: {'C', 'F', 'G'}\n",
            " 62: Coche 1: {'B', 'F', 'D', 'A'} Coche 2: {'C', 'G', 'E'}\n",
            " 63: Coche 1: {'B', 'G', 'D', 'A'} Coche 2: {'C', 'F', 'E'}\n",
            " 64: Coche 1: {'B', 'F', 'E', 'A'} Coche 2: {'C', 'G', 'D'}\n",
            " 65: Coche 1: {'B', 'G', 'E', 'A'} Coche 2: {'C', 'F', 'D'}\n",
            " 66: Coche 1: {'G', 'B', 'F', 'A'} Coche 2: {'C', 'E', 'D'}\n",
            " 67: Coche 1: {'C', 'D', 'A', 'E'} Coche 2: {'G', 'B', 'F'}\n",
            " 68: Coche 1: {'C', 'F', 'D', 'A'} Coche 2: {'B', 'G', 'E'}\n",
            " 69: Coche 1: {'C', 'G', 'D', 'A'} Coche 2: {'B', 'F', 'E'}\n",
            " 70: Coche 1: {'C', 'F', 'E', 'A'} Coche 2: {'B', 'G', 'D'}\n",
            " 71: Coche 1: {'C', 'G', 'E', 'A'} Coche 2: {'B', 'F', 'D'}\n",
            " 72: Coche 1: {'C', 'F', 'G', 'A'} Coche 2: {'B', 'E', 'D'}\n",
            " 73: Coche 1: {'F', 'D', 'A', 'E'} Coche 2: {'C', 'B', 'G'}\n",
            " 74: Coche 1: {'G', 'D', 'A', 'E'} Coche 2: {'C', 'B', 'F'}\n",
            " 75: Coche 1: {'G', 'F', 'D', 'A'} Coche 2: {'C', 'B', 'E'}\n",
            " 76: Coche 1: {'G', 'F', 'E', 'A'} Coche 2: {'C', 'B', 'D'}\n",
            " 77: Coche 1: {'C', 'B', 'D', 'E'} Coche 2: {'G', 'F', 'A'}\n",
            " 78: Coche 1: {'C', 'B', 'F', 'D'} Coche 2: {'G', 'E', 'A'}\n",
            " 79: Coche 1: {'C', 'B', 'G', 'D'} Coche 2: {'F', 'E', 'A'}\n",
            " 80: Coche 1: {'C', 'B', 'F', 'E'} Coche 2: {'G', 'D', 'A'}\n",
            " 81: Coche 1: {'C', 'B', 'G', 'E'} Coche 2: {'F', 'D', 'A'}\n",
            " 82: Coche 1: {'C', 'B', 'F', 'G'} Coche 2: {'E', 'A', 'D'}\n",
            " 83: Coche 1: {'B', 'F', 'D', 'E'} Coche 2: {'C', 'G', 'A'}\n",
            " 84: Coche 1: {'B', 'G', 'D', 'E'} Coche 2: {'C', 'F', 'A'}\n",
            " 85: Coche 1: {'G', 'B', 'F', 'D'} Coche 2: {'C', 'E', 'A'}\n",
            " 86: Coche 1: {'G', 'B', 'F', 'E'} Coche 2: {'C', 'D', 'A'}\n",
            " 87: Coche 1: {'C', 'F', 'D', 'E'} Coche 2: {'B', 'G', 'A'}\n",
            " 88: Coche 1: {'C', 'G', 'D', 'E'} Coche 2: {'B', 'F', 'A'}\n",
            " 89: Coche 1: {'C', 'G', 'F', 'D'} Coche 2: {'B', 'E', 'A'}\n",
            " 90: Coche 1: {'C', 'G', 'F', 'E'} Coche 2: {'B', 'D', 'A'}\n",
            " 91: Coche 1: {'G', 'F', 'D', 'E'} Coche 2: {'C', 'B', 'A'}\n",
            " 92: Coche 1: {'A', 'C', 'B', 'E', 'D'} Coche 2: {'G', 'F'}\n",
            " 93: Coche 1: {'A', 'C', 'B', 'F', 'D'} Coche 2: {'G', 'E'}\n",
            " 94: Coche 1: {'A', 'C', 'B', 'G', 'D'} Coche 2: {'F', 'E'}\n",
            " 95: Coche 1: {'A', 'C', 'B', 'F', 'E'} Coche 2: {'G', 'D'}\n",
            " 96: Coche 1: {'A', 'C', 'B', 'G', 'E'} Coche 2: {'F', 'D'}\n",
            " 97: Coche 1: {'A', 'C', 'B', 'F', 'G'} Coche 2: {'E', 'D'}\n",
            " 98: Coche 1: {'A', 'B', 'F', 'E', 'D'} Coche 2: {'C', 'G'}\n",
            " 99: Coche 1: {'A', 'B', 'G', 'E', 'D'} Coche 2: {'C', 'F'}\n",
            "100: Coche 1: {'A', 'B', 'G', 'F', 'D'} Coche 2: {'C', 'E'}\n",
            "101: Coche 1: {'A', 'B', 'G', 'F', 'E'} Coche 2: {'C', 'D'}\n",
            "102: Coche 1: {'A', 'C', 'F', 'E', 'D'} Coche 2: {'B', 'G'}\n",
            "103: Coche 1: {'A', 'C', 'G', 'E', 'D'} Coche 2: {'B', 'F'}\n",
            "104: Coche 1: {'A', 'C', 'G', 'F', 'D'} Coche 2: {'B', 'E'}\n",
            "105: Coche 1: {'A', 'C', 'G', 'F', 'E'} Coche 2: {'B', 'D'}\n",
            "106: Coche 1: {'A', 'G', 'F', 'E', 'D'} Coche 2: {'C', 'B'}\n",
            "107: Coche 1: {'C', 'B', 'F', 'E', 'D'} Coche 2: {'G', 'A'}\n",
            "108: Coche 1: {'C', 'B', 'G', 'E', 'D'} Coche 2: {'F', 'A'}\n",
            "109: Coche 1: {'C', 'B', 'F', 'G', 'D'} Coche 2: {'E', 'A'}\n",
            "110: Coche 1: {'C', 'B', 'F', 'E', 'G'} Coche 2: {'D', 'A'}\n",
            "111: Coche 1: {'B', 'G', 'F', 'E', 'D'} Coche 2: {'C', 'A'}\n",
            "112: Coche 1: {'C', 'G', 'F', 'E', 'D'} Coche 2: {'B', 'A'}\n"
          ]
        }
      ],
      "source": [
        "amigos = ['A', 'B', 'C', 'D', 'E', 'F', 'G']\n",
        "# Tengo que decir quienes van en el primer coche, el resto van en el segundo:\n",
        "# Dos en el primer coche:\n",
        "combs_2 = [item for item in itertools.combinations(amigos, 2)]\n",
        "# Tres en el primer coche:\n",
        "combs_3 = [item for item in itertools.combinations(amigos, 3)]\n",
        "# Cuatro en el primer coche:\n",
        "combs_4 = [item for item in itertools.combinations(amigos, 4)]\n",
        "# Cinco en el primer coche:\n",
        "combs_5 = [item for item in itertools.combinations(amigos, 5)]\n",
        "# Todas las combinaciones juntas:\n",
        "combs = combs_2 + combs_3 + combs_4 + combs_5\n",
        "# Imprimo el número de elementos:\n",
        "print(\"Numero de elementos = %d\" % (len(combs)))\n",
        "# Imprimo las soluciones:\n",
        "aset = set(amigos)\n",
        "for i,c in enumerate(combs):\n",
        "    coche1_set = set(c)\n",
        "    coche2_set = aset.difference(coche1_set)\n",
        "    m = \"%3d: \" % (i+1)\n",
        "    print(m + \"Coche 1: \" + str(coche1_set) + \" Coche 2: \" + str(coche2_set))"
      ]
    },
    {
      "cell_type": "code",
      "execution_count": 31,
      "metadata": {
        "colab": {
          "base_uri": "https://localhost:8080/"
        },
        "id": "3_7QnOhIcXvS",
        "outputId": "4dffa07f-bb0d-46ab-8aac-1a21604f9f9a"
      },
      "outputs": [
        {
          "output_type": "execute_result",
          "data": {
            "text/plain": [
              "112"
            ]
          },
          "metadata": {},
          "execution_count": 31
        }
      ],
      "source": [
        "# Valor teórico:\n",
        "21+35+35+21"
      ]
    },
    {
      "cell_type": "markdown",
      "metadata": {
        "id": "7OQCuEvhcXvT"
      },
      "source": [
        "**Ejercicio 4b.** ¿De cuántas maneras distintas se pueden repartir en los coches si sólo hay dos conductores? No importa en qué orden se sientan, sólo quiénes van en cada coche.\n"
      ]
    },
    {
      "cell_type": "code",
      "execution_count": 32,
      "metadata": {
        "scrolled": true,
        "colab": {
          "base_uri": "https://localhost:8080/"
        },
        "id": "-NrXj2HtcXvT",
        "outputId": "fa40265a-e9a1-4cea-f697-a78d1c242b99"
      },
      "outputs": [
        {
          "output_type": "stream",
          "name": "stdout",
          "text": [
            "Numero de elementos = 60\n",
            "  1: Coche 1: {'C', 'A'} Coche 2: {'B', 'F', 'G', 'E', 'D'}\n",
            "  2: Coche 1: {'C', 'B'} Coche 2: {'A', 'F', 'G', 'E', 'D'}\n",
            "  3: Coche 1: {'D', 'A'} Coche 2: {'C', 'B', 'F', 'G', 'E'}\n",
            "  4: Coche 1: {'B', 'D'} Coche 2: {'A', 'C', 'F', 'G', 'E'}\n",
            "  5: Coche 1: {'E', 'A'} Coche 2: {'C', 'B', 'F', 'G', 'D'}\n",
            "  6: Coche 1: {'B', 'E'} Coche 2: {'A', 'C', 'F', 'G', 'D'}\n",
            "  7: Coche 1: {'F', 'A'} Coche 2: {'C', 'B', 'G', 'E', 'D'}\n",
            "  8: Coche 1: {'B', 'F'} Coche 2: {'A', 'C', 'G', 'E', 'D'}\n",
            "  9: Coche 1: {'G', 'A'} Coche 2: {'C', 'B', 'F', 'E', 'D'}\n",
            " 10: Coche 1: {'B', 'G'} Coche 2: {'A', 'C', 'F', 'E', 'D'}\n",
            " 11: Coche 1: {'C', 'D', 'A'} Coche 2: {'F', 'B', 'G', 'E'}\n",
            " 12: Coche 1: {'C', 'B', 'D'} Coche 2: {'F', 'G', 'E', 'A'}\n",
            " 13: Coche 1: {'C', 'E', 'A'} Coche 2: {'F', 'B', 'G', 'D'}\n",
            " 14: Coche 1: {'C', 'B', 'E'} Coche 2: {'F', 'G', 'D', 'A'}\n",
            " 15: Coche 1: {'C', 'F', 'A'} Coche 2: {'B', 'G', 'E', 'D'}\n",
            " 16: Coche 1: {'C', 'B', 'F'} Coche 2: {'G', 'E', 'A', 'D'}\n",
            " 17: Coche 1: {'C', 'G', 'A'} Coche 2: {'B', 'F', 'E', 'D'}\n",
            " 18: Coche 1: {'C', 'B', 'G'} Coche 2: {'F', 'E', 'A', 'D'}\n",
            " 19: Coche 1: {'D', 'A', 'E'} Coche 2: {'F', 'C', 'B', 'G'}\n",
            " 20: Coche 1: {'B', 'D', 'E'} Coche 2: {'F', 'C', 'G', 'A'}\n",
            " 21: Coche 1: {'F', 'D', 'A'} Coche 2: {'C', 'B', 'G', 'E'}\n",
            " 22: Coche 1: {'B', 'F', 'D'} Coche 2: {'C', 'G', 'E', 'A'}\n",
            " 23: Coche 1: {'G', 'D', 'A'} Coche 2: {'C', 'B', 'F', 'E'}\n",
            " 24: Coche 1: {'B', 'G', 'D'} Coche 2: {'C', 'F', 'E', 'A'}\n",
            " 25: Coche 1: {'F', 'E', 'A'} Coche 2: {'C', 'B', 'G', 'D'}\n",
            " 26: Coche 1: {'B', 'F', 'E'} Coche 2: {'C', 'G', 'D', 'A'}\n",
            " 27: Coche 1: {'G', 'E', 'A'} Coche 2: {'C', 'B', 'F', 'D'}\n",
            " 28: Coche 1: {'B', 'G', 'E'} Coche 2: {'C', 'F', 'D', 'A'}\n",
            " 29: Coche 1: {'G', 'F', 'A'} Coche 2: {'C', 'B', 'E', 'D'}\n",
            " 30: Coche 1: {'G', 'B', 'F'} Coche 2: {'C', 'E', 'A', 'D'}\n",
            " 31: Coche 1: {'C', 'D', 'A', 'E'} Coche 2: {'F', 'B', 'G'}\n",
            " 32: Coche 1: {'C', 'B', 'D', 'E'} Coche 2: {'F', 'G', 'A'}\n",
            " 33: Coche 1: {'C', 'F', 'D', 'A'} Coche 2: {'B', 'G', 'E'}\n",
            " 34: Coche 1: {'C', 'B', 'F', 'D'} Coche 2: {'G', 'E', 'A'}\n",
            " 35: Coche 1: {'C', 'G', 'D', 'A'} Coche 2: {'B', 'F', 'E'}\n",
            " 36: Coche 1: {'C', 'B', 'G', 'D'} Coche 2: {'F', 'E', 'A'}\n",
            " 37: Coche 1: {'C', 'F', 'E', 'A'} Coche 2: {'B', 'G', 'D'}\n",
            " 38: Coche 1: {'C', 'B', 'F', 'E'} Coche 2: {'G', 'D', 'A'}\n",
            " 39: Coche 1: {'C', 'G', 'E', 'A'} Coche 2: {'B', 'F', 'D'}\n",
            " 40: Coche 1: {'C', 'B', 'G', 'E'} Coche 2: {'F', 'D', 'A'}\n",
            " 41: Coche 1: {'C', 'F', 'G', 'A'} Coche 2: {'B', 'E', 'D'}\n",
            " 42: Coche 1: {'C', 'B', 'F', 'G'} Coche 2: {'E', 'A', 'D'}\n",
            " 43: Coche 1: {'F', 'D', 'A', 'E'} Coche 2: {'C', 'B', 'G'}\n",
            " 44: Coche 1: {'B', 'F', 'D', 'E'} Coche 2: {'C', 'G', 'A'}\n",
            " 45: Coche 1: {'G', 'D', 'A', 'E'} Coche 2: {'C', 'B', 'F'}\n",
            " 46: Coche 1: {'B', 'G', 'D', 'E'} Coche 2: {'C', 'F', 'A'}\n",
            " 47: Coche 1: {'G', 'F', 'D', 'A'} Coche 2: {'C', 'B', 'E'}\n",
            " 48: Coche 1: {'G', 'B', 'F', 'D'} Coche 2: {'C', 'E', 'A'}\n",
            " 49: Coche 1: {'G', 'F', 'E', 'A'} Coche 2: {'C', 'B', 'D'}\n",
            " 50: Coche 1: {'G', 'B', 'F', 'E'} Coche 2: {'C', 'D', 'A'}\n",
            " 51: Coche 1: {'A', 'C', 'F', 'E', 'D'} Coche 2: {'B', 'G'}\n",
            " 52: Coche 1: {'C', 'B', 'F', 'E', 'D'} Coche 2: {'G', 'A'}\n",
            " 53: Coche 1: {'A', 'C', 'G', 'E', 'D'} Coche 2: {'B', 'F'}\n",
            " 54: Coche 1: {'C', 'B', 'G', 'E', 'D'} Coche 2: {'F', 'A'}\n",
            " 55: Coche 1: {'A', 'C', 'G', 'F', 'D'} Coche 2: {'B', 'E'}\n",
            " 56: Coche 1: {'C', 'B', 'G', 'F', 'D'} Coche 2: {'E', 'A'}\n",
            " 57: Coche 1: {'A', 'C', 'G', 'F', 'E'} Coche 2: {'B', 'D'}\n",
            " 58: Coche 1: {'C', 'B', 'G', 'F', 'E'} Coche 2: {'D', 'A'}\n",
            " 59: Coche 1: {'A', 'G', 'F', 'E', 'D'} Coche 2: {'C', 'B'}\n",
            " 60: Coche 1: {'B', 'G', 'F', 'E', 'D'} Coche 2: {'C', 'A'}\n"
          ]
        }
      ],
      "source": [
        "# Suponemos que los conductores son A y B:\n",
        "conductores = ['A', 'B']\n",
        "no_conductores = ['C', 'D', 'E', 'F', 'G']\n",
        "# De los no conductores, tengo que decir quienes van en el primer coche, el resto van en el segundo:\n",
        "# Uno en el primer coche:\n",
        "combs_1 = [item for item in itertools.combinations(no_conductores, 1)]\n",
        "# Dos en el primer coche:\n",
        "combs_2 = [item for item in itertools.combinations(no_conductores, 2)]\n",
        "# Tres en el primer coche:\n",
        "combs_3 = [item for item in itertools.combinations(no_conductores, 3)]\n",
        "# Cuatro en el primer coche:\n",
        "combs_4 = [item for item in itertools.combinations(no_conductores, 4)]\n",
        "# Todas las combinaciones juntas:\n",
        "combs = combs_1 + combs_2 + combs_3 + combs_4\n",
        "# Imprimo el número de elementos:\n",
        "print(\"Numero de elementos = %d\" % (2*len(combs)))\n",
        "# Imprimo las soluciones (cada una cuenta 2 veces porque el conductor de cada coche puede ser A o B):\n",
        "aset = set(no_conductores)\n",
        "for i,c in enumerate(combs):\n",
        "    coche1_set = set(c)\n",
        "    coche2_set = aset.difference(coche1_set)\n",
        "    m = \"%3d: \" % (2*i+1)\n",
        "    print(m + \"Coche 1: \" + str(coche1_set.union('A')) + \" Coche 2: \" + str(coche2_set.union('B'))) \n",
        "    m = \"%3d: \" % (2*i+2)\n",
        "    print(m + \"Coche 1: \" + str(coche1_set.union('B')) + \" Coche 2: \" + str(coche2_set.union('A')))"
      ]
    },
    {
      "cell_type": "code",
      "execution_count": 33,
      "metadata": {
        "colab": {
          "base_uri": "https://localhost:8080/"
        },
        "id": "YuebxATAcXvT",
        "outputId": "c872582f-119c-4156-e20b-939065a6018c"
      },
      "outputs": [
        {
          "output_type": "execute_result",
          "data": {
            "text/plain": [
              "60"
            ]
          },
          "metadata": {},
          "execution_count": 33
        }
      ],
      "source": [
        "# Valor teórico:\n",
        "2*(5+10+10+5)"
      ]
    }
  ],
  "metadata": {
    "kernelspec": {
      "display_name": "Python 2",
      "language": "python",
      "name": "python2"
    },
    "language_info": {
      "codemirror_mode": {
        "name": "ipython",
        "version": 2
      },
      "file_extension": ".py",
      "mimetype": "text/x-python",
      "name": "python",
      "nbconvert_exporter": "python",
      "pygments_lexer": "ipython2",
      "version": "2.7.10"
    },
    "colab": {
      "provenance": []
    }
  },
  "nbformat": 4,
  "nbformat_minor": 0
}
